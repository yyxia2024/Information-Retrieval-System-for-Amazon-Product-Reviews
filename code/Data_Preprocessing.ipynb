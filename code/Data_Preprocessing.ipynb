{
 "cells": [
  {
   "cell_type": "code",
   "execution_count": 1,
   "id": "40c5a981",
   "metadata": {},
   "outputs": [
    {
     "name": "stderr",
     "output_type": "stream",
     "text": [
      "2023-12-11 20:33:35.679707: E external/local_xla/xla/stream_executor/cuda/cuda_dnn.cc:9261] Unable to register cuDNN factory: Attempting to register factory for plugin cuDNN when one has already been registered\n",
      "2023-12-11 20:33:35.679754: E external/local_xla/xla/stream_executor/cuda/cuda_fft.cc:607] Unable to register cuFFT factory: Attempting to register factory for plugin cuFFT when one has already been registered\n",
      "2023-12-11 20:33:35.681049: E external/local_xla/xla/stream_executor/cuda/cuda_blas.cc:1515] Unable to register cuBLAS factory: Attempting to register factory for plugin cuBLAS when one has already been registered\n",
      "2023-12-11 20:33:35.687951: I tensorflow/core/platform/cpu_feature_guard.cc:182] This TensorFlow binary is optimized to use available CPU instructions in performance-critical operations.\n",
      "To enable the following instructions: AVX2 AVX512F FMA, in other operations, rebuild TensorFlow with the appropriate compiler flags.\n",
      "2023-12-11 20:33:36.919843: W tensorflow/compiler/tf2tensorrt/utils/py_utils.cc:38] TF-TRT Warning: Could not find TensorRT\n"
     ]
    }
   ],
   "source": [
    "import nltk\n",
    "from nltk.corpus import stopwords\n",
    "import csv\n",
    "import pandas as pd\n",
    "from nltk.tokenize import RegexpTokenizer\n",
    "from tqdm import tqdm\n",
    "from datetime import datetime\n",
    "import matplotlib.pyplot as plt\n",
    "from indexing import IndexType, BasicInvertedIndex, InvertedIndex\n",
    "from rank_bm25 import BM25Okapi\n",
    "import ranker\n",
    "import numpy as np\n",
    "from nltk.tokenize import word_tokenize\n",
    "import nltk\n",
    "import ast\n"
   ]
  },
  {
   "cell_type": "code",
   "execution_count": 2,
   "id": "70b5aa70",
   "metadata": {},
   "outputs": [
    {
     "name": "stderr",
     "output_type": "stream",
     "text": [
      "[nltk_data] Downloading package punkt to /home/yyxia/nltk_data...\n",
      "[nltk_data]   Package punkt is already up-to-date!\n"
     ]
    },
    {
     "data": {
      "text/plain": [
       "True"
      ]
     },
     "execution_count": 2,
     "metadata": {},
     "output_type": "execute_result"
    }
   ],
   "source": [
    "nltk.download('punkt')"
   ]
  },
  {
   "cell_type": "code",
   "execution_count": 3,
   "id": "87df14ed",
   "metadata": {},
   "outputs": [
    {
     "name": "stderr",
     "output_type": "stream",
     "text": [
      "[nltk_data] Downloading package stopwords to /home/yyxia/nltk_data...\n",
      "[nltk_data]   Package stopwords is already up-to-date!\n"
     ]
    },
    {
     "data": {
      "text/plain": [
       "True"
      ]
     },
     "execution_count": 3,
     "metadata": {},
     "output_type": "execute_result"
    }
   ],
   "source": [
    "nltk.download('stopwords')"
   ]
  },
  {
   "cell_type": "markdown",
   "id": "9e9443aa",
   "metadata": {},
   "source": [
    "# Data Preprocessing"
   ]
  },
  {
   "cell_type": "code",
   "execution_count": 14,
   "id": "924981bf",
   "metadata": {},
   "outputs": [],
   "source": [
    "# !pip install rank_bm25"
   ]
  },
  {
   "cell_type": "code",
   "execution_count": 15,
   "id": "4c794c73",
   "metadata": {},
   "outputs": [],
   "source": [
    "# data_sets = {}\n",
    "# with open('/content/drive/MyDrive/Health.txt', 'r') as file:\n",
    "#     current_set = None\n",
    "#     for line in file:\n",
    "#         line = line.strip()\n",
    "#         if not line:\n",
    "#             current_set = None\n",
    "#             continue\n",
    "#         parts = line.split(':')\n",
    "#         current_set = parts[0]\n",
    "#         if current_set not in data_sets:\n",
    "#             data_sets[current_set] = []\n",
    "#         data_sets[current_set].append(parts[1])\n",
    "# transposed_data = list(map(list, zip(*data_sets.values())))\n",
    "\n",
    "# with open('output.csv', 'w', newline='') as csvfile:\n",
    "#     csv_writer = csv.writer(csvfile)\n",
    "#     csv_writer.writerow(data_sets.keys())\n",
    "#     csv_writer.writerows(transposed_data)"
   ]
  },
  {
   "cell_type": "code",
   "execution_count": 25,
   "id": "8874ddf9",
   "metadata": {},
   "outputs": [],
   "source": [
    "df = pd.read_csv('/home/yyxia/si650_project/output_health.csv')"
   ]
  },
  {
   "cell_type": "code",
   "execution_count": 26,
   "id": "17aaf386",
   "metadata": {},
   "outputs": [
    {
     "name": "stdout",
     "output_type": "stream",
     "text": [
      "Time Counts:\n",
      "2012    110399\n",
      "2011     73180\n",
      "2010     50929\n",
      "2013     42320\n",
      "2009     39277\n",
      "2008     37797\n",
      "2007     34970\n",
      "2006     14463\n",
      "2005     10034\n",
      "2004      5872\n",
      "2003      3895\n",
      "2000      2988\n",
      "2002      1670\n",
      "2001       731\n",
      "1999       245\n",
      "1969        10\n",
      "1998         1\n",
      "Name: time, dtype: int64\n"
     ]
    }
   ],
   "source": [
    "df['time'] = df['review/time'].apply(lambda x: datetime.utcfromtimestamp(x).strftime('%Y'))\n",
    "time_counts = df['time'].value_counts()\n",
    "\n",
    "print(\"Time Counts:\")\n",
    "print(time_counts)"
   ]
  },
  {
   "cell_type": "markdown",
   "id": "afda4d44",
   "metadata": {},
   "source": [
    "## Based on the data above, I chose to filter those data from 2005 to 2013."
   ]
  },
  {
   "cell_type": "code",
   "execution_count": null,
   "id": "4ab122d9",
   "metadata": {},
   "outputs": [],
   "source": [
    "df['review/time'] = pd.to_numeric(df['review/time'])\n",
    "start_timestamp = datetime(2005, 1, 1).timestamp()\n",
    "end_timestamp = datetime(2013, 12, 31).timestamp()\n",
    "time_filtered_df = df[(df['review/time'] >= start_timestamp) & (df['review/time'] <= end_timestamp)]"
   ]
  },
  {
   "cell_type": "code",
   "execution_count": null,
   "id": "16ef4344",
   "metadata": {},
   "outputs": [],
   "source": [
    "score_filtered_df = time_filtered_df[time_filtered_df['review/score'] > 3]"
   ]
  },
  {
   "cell_type": "code",
   "execution_count": null,
   "id": "b96b1a40",
   "metadata": {},
   "outputs": [],
   "source": [
    "helpfulness_filtered_df = score_filtered_df[~score_filtered_df['review/helpfulness'].str.startswith(' 0/')]"
   ]
  },
  {
   "cell_type": "code",
   "execution_count": null,
   "id": "9baf9747",
   "metadata": {},
   "outputs": [],
   "source": [
    "category_counts = helpfulness_filtered_df['product/title'].value_counts()\n",
    "\n",
    "print(\"Category Counts:\")\n",
    "print(category_counts)\n",
    "\n",
    "filtered_categories = category_counts[category_counts >= 10].index\n",
    "\n",
    "filtered_df = helpfulness_filtered_df[helpfulness_filtered_df['product/title'].isin(filtered_categories)]\n",
    "\n",
    "# Display the filtered DataFrame\n",
    "print(\"\\nFiltered DataFrame:\")\n",
    "print(filtered_df.shape)"
   ]
  },
  {
   "cell_type": "code",
   "execution_count": null,
   "id": "8ea94f56",
   "metadata": {},
   "outputs": [],
   "source": [
    "filtered_df.head(5)"
   ]
  },
  {
   "cell_type": "markdown",
   "id": "634d9420",
   "metadata": {},
   "source": [
    "## Now we get 2834 different products in general."
   ]
  },
  {
   "cell_type": "code",
   "execution_count": null,
   "id": "15a6c9c2",
   "metadata": {},
   "outputs": [],
   "source": [
    "print(filtered_df['product/title'].describe())"
   ]
  },
  {
   "cell_type": "code",
   "execution_count": null,
   "id": "d220bc68",
   "metadata": {},
   "outputs": [],
   "source": [
    "print(df['product/title'].describe())"
   ]
  },
  {
   "cell_type": "markdown",
   "id": "3a0cc3f5",
   "metadata": {},
   "source": [
    "# Tokenizing Data"
   ]
  },
  {
   "cell_type": "code",
   "execution_count": 27,
   "id": "04918778",
   "metadata": {},
   "outputs": [],
   "source": [
    "tokenizer = RegexpTokenizer(r'\\w+')\n",
    "def preprocess_dataset(index, column, dataset):\n",
    "    text = dataset[column][index]\n",
    "    tokens = tokenizer.tokenize(text)\n",
    "    filtered_tokens = [token.lower() for token in tokens if token.lower() not in set(stopwords.words('english'))]\n",
    "    dataset[column][index] = filtered_tokens"
   ]
  },
  {
   "cell_type": "code",
   "execution_count": 28,
   "id": "dcfb6b9a",
   "metadata": {},
   "outputs": [
    {
     "data": {
      "text/html": [
       "<div>\n",
       "<style scoped>\n",
       "    .dataframe tbody tr th:only-of-type {\n",
       "        vertical-align: middle;\n",
       "    }\n",
       "\n",
       "    .dataframe tbody tr th {\n",
       "        vertical-align: top;\n",
       "    }\n",
       "\n",
       "    .dataframe thead th {\n",
       "        text-align: right;\n",
       "    }\n",
       "</style>\n",
       "<table border=\"1\" class=\"dataframe\">\n",
       "  <thead>\n",
       "    <tr style=\"text-align: right;\">\n",
       "      <th></th>\n",
       "      <th>product/productId</th>\n",
       "      <th>product/title</th>\n",
       "      <th>product/price</th>\n",
       "      <th>review/userId</th>\n",
       "      <th>review/profileName</th>\n",
       "      <th>review/helpfulness</th>\n",
       "      <th>review/score</th>\n",
       "      <th>review/time</th>\n",
       "      <th>review/summary</th>\n",
       "      <th>review/text</th>\n",
       "      <th>time</th>\n",
       "      <th>docid</th>\n",
       "      <th>review_text_list</th>\n",
       "    </tr>\n",
       "  </thead>\n",
       "  <tbody>\n",
       "    <tr>\n",
       "      <th>0</th>\n",
       "      <td>B000278ADA</td>\n",
       "      <td>Jobst Ultrasheer 15-20 Knee-High Silky Beige ...</td>\n",
       "      <td>46.34</td>\n",
       "      <td>ASL7LZAL2LBMS</td>\n",
       "      <td>Ohio Nurse \"bronwyn59\"</td>\n",
       "      <td>13/13</td>\n",
       "      <td>5.0</td>\n",
       "      <td>1157241600</td>\n",
       "      <td>Lower leg comfort for 12 hours +</td>\n",
       "      <td>['excellent', 'stockings', 'long', 'shifts', '...</td>\n",
       "      <td>2006</td>\n",
       "      <td>1</td>\n",
       "      <td>[excellent, stockings, long, shifts, feet, tig...</td>\n",
       "    </tr>\n",
       "    <tr>\n",
       "      <th>1</th>\n",
       "      <td>B000278ADA</td>\n",
       "      <td>Jobst Ultrasheer 15-20 Knee-High Silky Beige ...</td>\n",
       "      <td>46.34</td>\n",
       "      <td>A21F8C1MDLQDTH</td>\n",
       "      <td>S. Lawson</td>\n",
       "      <td>14/15</td>\n",
       "      <td>5.0</td>\n",
       "      <td>1110326400</td>\n",
       "      <td>Fashionable Compression Stockings!</td>\n",
       "      <td>['dvt', 'doctor', 'required', 'wear', 'compres...</td>\n",
       "      <td>2005</td>\n",
       "      <td>2</td>\n",
       "      <td>[dvt, doctor, required, wear, compression, sto...</td>\n",
       "    </tr>\n",
       "    <tr>\n",
       "      <th>2</th>\n",
       "      <td>B000278ADA</td>\n",
       "      <td>Jobst Ultrasheer 15-20 Knee-High Silky Beige ...</td>\n",
       "      <td>46.34</td>\n",
       "      <td>A3J4K29TNC7RV1</td>\n",
       "      <td>Karen W. \"Karen W.\"</td>\n",
       "      <td>13/14</td>\n",
       "      <td>5.0</td>\n",
       "      <td>1173312000</td>\n",
       "      <td>Sheer Relief!</td>\n",
       "      <td>['doctor', 'recommended', 'thigh', 'high', 've...</td>\n",
       "      <td>2007</td>\n",
       "      <td>3</td>\n",
       "      <td>[doctor, recommended, thigh, high, version, pr...</td>\n",
       "    </tr>\n",
       "    <tr>\n",
       "      <th>3</th>\n",
       "      <td>B000278ADA</td>\n",
       "      <td>Jobst Ultrasheer 15-20 Knee-High Silky Beige ...</td>\n",
       "      <td>46.34</td>\n",
       "      <td>A3GQAVM66FA88J</td>\n",
       "      <td>G. Alosa \"wifey\"</td>\n",
       "      <td>6/6</td>\n",
       "      <td>5.0</td>\n",
       "      <td>1204416000</td>\n",
       "      <td>No more uncomfortable flights</td>\n",
       "      <td>['stockings', 'fit', 'well', 'comfortable', 'o...</td>\n",
       "      <td>2008</td>\n",
       "      <td>4</td>\n",
       "      <td>[stockings, fit, well, comfortable, opportunit...</td>\n",
       "    </tr>\n",
       "    <tr>\n",
       "      <th>4</th>\n",
       "      <td>B000278ADA</td>\n",
       "      <td>Jobst Ultrasheer 15-20 Knee-High Silky Beige ...</td>\n",
       "      <td>46.34</td>\n",
       "      <td>A1BTRWL1E3T2YB</td>\n",
       "      <td>A. S. Penuel</td>\n",
       "      <td>6/6</td>\n",
       "      <td>5.0</td>\n",
       "      <td>1184803200</td>\n",
       "      <td>Jobst UltraSheer Thigh High</td>\n",
       "      <td>['excellent', 'product', 'however', 'difficult...</td>\n",
       "      <td>2007</td>\n",
       "      <td>5</td>\n",
       "      <td>[excellent, product, however, difficult, get, ...</td>\n",
       "    </tr>\n",
       "  </tbody>\n",
       "</table>\n",
       "</div>"
      ],
      "text/plain": [
       "  product/productId                                      product/title  \\\n",
       "0        B000278ADA   Jobst Ultrasheer 15-20 Knee-High Silky Beige ...   \n",
       "1        B000278ADA   Jobst Ultrasheer 15-20 Knee-High Silky Beige ...   \n",
       "2        B000278ADA   Jobst Ultrasheer 15-20 Knee-High Silky Beige ...   \n",
       "3        B000278ADA   Jobst Ultrasheer 15-20 Knee-High Silky Beige ...   \n",
       "4        B000278ADA   Jobst Ultrasheer 15-20 Knee-High Silky Beige ...   \n",
       "\n",
       "  product/price    review/userId       review/profileName review/helpfulness  \\\n",
       "0         46.34    ASL7LZAL2LBMS   Ohio Nurse \"bronwyn59\"              13/13   \n",
       "1         46.34   A21F8C1MDLQDTH                S. Lawson              14/15   \n",
       "2         46.34   A3J4K29TNC7RV1      Karen W. \"Karen W.\"              13/14   \n",
       "3         46.34   A3GQAVM66FA88J         G. Alosa \"wifey\"                6/6   \n",
       "4         46.34   A1BTRWL1E3T2YB             A. S. Penuel                6/6   \n",
       "\n",
       "   review/score  review/time                       review/summary  \\\n",
       "0           5.0   1157241600     Lower leg comfort for 12 hours +   \n",
       "1           5.0   1110326400   Fashionable Compression Stockings!   \n",
       "2           5.0   1173312000                        Sheer Relief!   \n",
       "3           5.0   1204416000        No more uncomfortable flights   \n",
       "4           5.0   1184803200          Jobst UltraSheer Thigh High   \n",
       "\n",
       "                                         review/text  time  docid  \\\n",
       "0  ['excellent', 'stockings', 'long', 'shifts', '...  2006      1   \n",
       "1  ['dvt', 'doctor', 'required', 'wear', 'compres...  2005      2   \n",
       "2  ['doctor', 'recommended', 'thigh', 'high', 've...  2007      3   \n",
       "3  ['stockings', 'fit', 'well', 'comfortable', 'o...  2008      4   \n",
       "4  ['excellent', 'product', 'however', 'difficult...  2007      5   \n",
       "\n",
       "                                    review_text_list  \n",
       "0  [excellent, stockings, long, shifts, feet, tig...  \n",
       "1  [dvt, doctor, required, wear, compression, sto...  \n",
       "2  [doctor, recommended, thigh, high, version, pr...  \n",
       "3  [stockings, fit, well, comfortable, opportunit...  \n",
       "4  [excellent, product, however, difficult, get, ...  "
      ]
     },
     "execution_count": 28,
     "metadata": {},
     "output_type": "execute_result"
    }
   ],
   "source": [
    "filtered_df.head()"
   ]
  },
  {
   "cell_type": "code",
   "execution_count": null,
   "id": "c1faf1b0",
   "metadata": {},
   "outputs": [],
   "source": []
  },
  {
   "cell_type": "code",
   "execution_count": null,
   "id": "4e179a32",
   "metadata": {},
   "outputs": [],
   "source": []
  },
  {
   "cell_type": "code",
   "execution_count": 29,
   "id": "bfb02c7f",
   "metadata": {},
   "outputs": [],
   "source": [
    "filtered_df['titleNsum'] = filtered_df['product/title'] + ' ' + filtered_df['review/summary']"
   ]
  },
  {
   "cell_type": "code",
   "execution_count": 32,
   "id": "74870d42",
   "metadata": {},
   "outputs": [
    {
     "data": {
      "text/plain": [
       "Index(['product/productId', 'product/title', 'product/price', 'review/userId',\n",
       "       'review/profileName', 'review/helpfulness', 'review/score',\n",
       "       'review/time', 'review/summary', 'review/text', 'time', 'docid',\n",
       "       'review_text_list', 'titleNsum'],\n",
       "      dtype='object')"
      ]
     },
     "execution_count": 32,
     "metadata": {},
     "output_type": "execute_result"
    }
   ],
   "source": [
    "filtered_df.columns"
   ]
  },
  {
   "cell_type": "code",
   "execution_count": 33,
   "id": "134771e0",
   "metadata": {},
   "outputs": [
    {
     "data": {
      "text/html": [
       "<div>\n",
       "<style scoped>\n",
       "    .dataframe tbody tr th:only-of-type {\n",
       "        vertical-align: middle;\n",
       "    }\n",
       "\n",
       "    .dataframe tbody tr th {\n",
       "        vertical-align: top;\n",
       "    }\n",
       "\n",
       "    .dataframe thead th {\n",
       "        text-align: right;\n",
       "    }\n",
       "</style>\n",
       "<table border=\"1\" class=\"dataframe\">\n",
       "  <thead>\n",
       "    <tr style=\"text-align: right;\">\n",
       "      <th></th>\n",
       "      <th>product/productId</th>\n",
       "      <th>product/title</th>\n",
       "      <th>product/price</th>\n",
       "      <th>review/userId</th>\n",
       "      <th>review/profileName</th>\n",
       "      <th>review/helpfulness</th>\n",
       "      <th>review/score</th>\n",
       "      <th>review/time</th>\n",
       "      <th>review/summary</th>\n",
       "      <th>review/text</th>\n",
       "      <th>time</th>\n",
       "      <th>docid</th>\n",
       "      <th>review_text_list</th>\n",
       "      <th>titleNsum</th>\n",
       "    </tr>\n",
       "  </thead>\n",
       "  <tbody>\n",
       "    <tr>\n",
       "      <th>0</th>\n",
       "      <td>B000278ADA</td>\n",
       "      <td>Jobst Ultrasheer 15-20 Knee-High Silky Beige ...</td>\n",
       "      <td>46.34</td>\n",
       "      <td>ASL7LZAL2LBMS</td>\n",
       "      <td>Ohio Nurse \"bronwyn59\"</td>\n",
       "      <td>13/13</td>\n",
       "      <td>5.0</td>\n",
       "      <td>1157241600</td>\n",
       "      <td>Lower leg comfort for 12 hours +</td>\n",
       "      <td>['excellent', 'stockings', 'long', 'shifts', '...</td>\n",
       "      <td>2006</td>\n",
       "      <td>1</td>\n",
       "      <td>[excellent, stockings, long, shifts, feet, tig...</td>\n",
       "      <td>Jobst Ultrasheer 15-20 Knee-High Silky Beige ...</td>\n",
       "    </tr>\n",
       "    <tr>\n",
       "      <th>1</th>\n",
       "      <td>B000278ADA</td>\n",
       "      <td>Jobst Ultrasheer 15-20 Knee-High Silky Beige ...</td>\n",
       "      <td>46.34</td>\n",
       "      <td>A21F8C1MDLQDTH</td>\n",
       "      <td>S. Lawson</td>\n",
       "      <td>14/15</td>\n",
       "      <td>5.0</td>\n",
       "      <td>1110326400</td>\n",
       "      <td>Fashionable Compression Stockings!</td>\n",
       "      <td>['dvt', 'doctor', 'required', 'wear', 'compres...</td>\n",
       "      <td>2005</td>\n",
       "      <td>2</td>\n",
       "      <td>[dvt, doctor, required, wear, compression, sto...</td>\n",
       "      <td>Jobst Ultrasheer 15-20 Knee-High Silky Beige ...</td>\n",
       "    </tr>\n",
       "    <tr>\n",
       "      <th>2</th>\n",
       "      <td>B000278ADA</td>\n",
       "      <td>Jobst Ultrasheer 15-20 Knee-High Silky Beige ...</td>\n",
       "      <td>46.34</td>\n",
       "      <td>A3J4K29TNC7RV1</td>\n",
       "      <td>Karen W. \"Karen W.\"</td>\n",
       "      <td>13/14</td>\n",
       "      <td>5.0</td>\n",
       "      <td>1173312000</td>\n",
       "      <td>Sheer Relief!</td>\n",
       "      <td>['doctor', 'recommended', 'thigh', 'high', 've...</td>\n",
       "      <td>2007</td>\n",
       "      <td>3</td>\n",
       "      <td>[doctor, recommended, thigh, high, version, pr...</td>\n",
       "      <td>Jobst Ultrasheer 15-20 Knee-High Silky Beige ...</td>\n",
       "    </tr>\n",
       "    <tr>\n",
       "      <th>3</th>\n",
       "      <td>B000278ADA</td>\n",
       "      <td>Jobst Ultrasheer 15-20 Knee-High Silky Beige ...</td>\n",
       "      <td>46.34</td>\n",
       "      <td>A3GQAVM66FA88J</td>\n",
       "      <td>G. Alosa \"wifey\"</td>\n",
       "      <td>6/6</td>\n",
       "      <td>5.0</td>\n",
       "      <td>1204416000</td>\n",
       "      <td>No more uncomfortable flights</td>\n",
       "      <td>['stockings', 'fit', 'well', 'comfortable', 'o...</td>\n",
       "      <td>2008</td>\n",
       "      <td>4</td>\n",
       "      <td>[stockings, fit, well, comfortable, opportunit...</td>\n",
       "      <td>Jobst Ultrasheer 15-20 Knee-High Silky Beige ...</td>\n",
       "    </tr>\n",
       "    <tr>\n",
       "      <th>4</th>\n",
       "      <td>B000278ADA</td>\n",
       "      <td>Jobst Ultrasheer 15-20 Knee-High Silky Beige ...</td>\n",
       "      <td>46.34</td>\n",
       "      <td>A1BTRWL1E3T2YB</td>\n",
       "      <td>A. S. Penuel</td>\n",
       "      <td>6/6</td>\n",
       "      <td>5.0</td>\n",
       "      <td>1184803200</td>\n",
       "      <td>Jobst UltraSheer Thigh High</td>\n",
       "      <td>['excellent', 'product', 'however', 'difficult...</td>\n",
       "      <td>2007</td>\n",
       "      <td>5</td>\n",
       "      <td>[excellent, product, however, difficult, get, ...</td>\n",
       "      <td>Jobst Ultrasheer 15-20 Knee-High Silky Beige ...</td>\n",
       "    </tr>\n",
       "  </tbody>\n",
       "</table>\n",
       "</div>"
      ],
      "text/plain": [
       "  product/productId                                      product/title  \\\n",
       "0        B000278ADA   Jobst Ultrasheer 15-20 Knee-High Silky Beige ...   \n",
       "1        B000278ADA   Jobst Ultrasheer 15-20 Knee-High Silky Beige ...   \n",
       "2        B000278ADA   Jobst Ultrasheer 15-20 Knee-High Silky Beige ...   \n",
       "3        B000278ADA   Jobst Ultrasheer 15-20 Knee-High Silky Beige ...   \n",
       "4        B000278ADA   Jobst Ultrasheer 15-20 Knee-High Silky Beige ...   \n",
       "\n",
       "  product/price    review/userId       review/profileName review/helpfulness  \\\n",
       "0         46.34    ASL7LZAL2LBMS   Ohio Nurse \"bronwyn59\"              13/13   \n",
       "1         46.34   A21F8C1MDLQDTH                S. Lawson              14/15   \n",
       "2         46.34   A3J4K29TNC7RV1      Karen W. \"Karen W.\"              13/14   \n",
       "3         46.34   A3GQAVM66FA88J         G. Alosa \"wifey\"                6/6   \n",
       "4         46.34   A1BTRWL1E3T2YB             A. S. Penuel                6/6   \n",
       "\n",
       "   review/score  review/time                       review/summary  \\\n",
       "0           5.0   1157241600     Lower leg comfort for 12 hours +   \n",
       "1           5.0   1110326400   Fashionable Compression Stockings!   \n",
       "2           5.0   1173312000                        Sheer Relief!   \n",
       "3           5.0   1204416000        No more uncomfortable flights   \n",
       "4           5.0   1184803200          Jobst UltraSheer Thigh High   \n",
       "\n",
       "                                         review/text  time  docid  \\\n",
       "0  ['excellent', 'stockings', 'long', 'shifts', '...  2006      1   \n",
       "1  ['dvt', 'doctor', 'required', 'wear', 'compres...  2005      2   \n",
       "2  ['doctor', 'recommended', 'thigh', 'high', 've...  2007      3   \n",
       "3  ['stockings', 'fit', 'well', 'comfortable', 'o...  2008      4   \n",
       "4  ['excellent', 'product', 'however', 'difficult...  2007      5   \n",
       "\n",
       "                                    review_text_list  \\\n",
       "0  [excellent, stockings, long, shifts, feet, tig...   \n",
       "1  [dvt, doctor, required, wear, compression, sto...   \n",
       "2  [doctor, recommended, thigh, high, version, pr...   \n",
       "3  [stockings, fit, well, comfortable, opportunit...   \n",
       "4  [excellent, product, however, difficult, get, ...   \n",
       "\n",
       "                                           titleNsum  \n",
       "0   Jobst Ultrasheer 15-20 Knee-High Silky Beige ...  \n",
       "1   Jobst Ultrasheer 15-20 Knee-High Silky Beige ...  \n",
       "2   Jobst Ultrasheer 15-20 Knee-High Silky Beige ...  \n",
       "3   Jobst Ultrasheer 15-20 Knee-High Silky Beige ...  \n",
       "4   Jobst Ultrasheer 15-20 Knee-High Silky Beige ...  "
      ]
     },
     "execution_count": 33,
     "metadata": {},
     "output_type": "execute_result"
    }
   ],
   "source": [
    "filtered_df.head()"
   ]
  },
  {
   "cell_type": "code",
   "execution_count": 32,
   "id": "26beb130",
   "metadata": {},
   "outputs": [
    {
     "name": "stderr",
     "output_type": "stream",
     "text": [
      "0it [00:00, ?it/s]/tmp/ipykernel_1939527/1026307363.py:6: SettingWithCopyWarning: \n",
      "A value is trying to be set on a copy of a slice from a DataFrame\n",
      "\n",
      "See the caveats in the documentation: https://pandas.pydata.org/pandas-docs/stable/user_guide/indexing.html#returning-a-view-versus-a-copy\n",
      "  dataset[column][index] = filtered_tokens\n",
      "106654it [41:49, 42.51it/s]\n"
     ]
    }
   ],
   "source": [
    "for index, row in tqdm(filtered_df.iterrows()):\n",
    "    preprocess_dataset(index, 'review/text', filtered_df)"
   ]
  },
  {
   "cell_type": "code",
   "execution_count": 34,
   "id": "f3b06545",
   "metadata": {},
   "outputs": [
    {
     "name": "stderr",
     "output_type": "stream",
     "text": [
      "0it [00:00, ?it/s]/tmp/ipykernel_1079874/1026307363.py:6: SettingWithCopyWarning: \n",
      "A value is trying to be set on a copy of a slice from a DataFrame\n",
      "\n",
      "See the caveats in the documentation: https://pandas.pydata.org/pandas-docs/stable/user_guide/indexing.html#returning-a-view-versus-a-copy\n",
      "  dataset[column][index] = filtered_tokens\n",
      "106654it [07:15, 245.17it/s]\n"
     ]
    }
   ],
   "source": [
    "for index, row in tqdm(filtered_df.iterrows()):\n",
    "    preprocess_dataset(index, 'titleNsum', filtered_df)"
   ]
  },
  {
   "cell_type": "code",
   "execution_count": 40,
   "id": "70c30b38",
   "metadata": {},
   "outputs": [
    {
     "data": {
      "text/html": [
       "<div>\n",
       "<style scoped>\n",
       "    .dataframe tbody tr th:only-of-type {\n",
       "        vertical-align: middle;\n",
       "    }\n",
       "\n",
       "    .dataframe tbody tr th {\n",
       "        vertical-align: top;\n",
       "    }\n",
       "\n",
       "    .dataframe thead th {\n",
       "        text-align: right;\n",
       "    }\n",
       "</style>\n",
       "<table border=\"1\" class=\"dataframe\">\n",
       "  <thead>\n",
       "    <tr style=\"text-align: right;\">\n",
       "      <th></th>\n",
       "      <th>product/productId</th>\n",
       "      <th>product/title</th>\n",
       "      <th>product/price</th>\n",
       "      <th>review/userId</th>\n",
       "      <th>review/profileName</th>\n",
       "      <th>review/helpfulness</th>\n",
       "      <th>review/score</th>\n",
       "      <th>review/time</th>\n",
       "      <th>review/summary</th>\n",
       "      <th>review/text</th>\n",
       "      <th>time</th>\n",
       "      <th>docid</th>\n",
       "      <th>review_text_list</th>\n",
       "      <th>titleNsum</th>\n",
       "    </tr>\n",
       "  </thead>\n",
       "  <tbody>\n",
       "    <tr>\n",
       "      <th>0</th>\n",
       "      <td>B000278ADA</td>\n",
       "      <td>Jobst Ultrasheer 15-20 Knee-High Silky Beige ...</td>\n",
       "      <td>46.34</td>\n",
       "      <td>ASL7LZAL2LBMS</td>\n",
       "      <td>Ohio Nurse \"bronwyn59\"</td>\n",
       "      <td>13/13</td>\n",
       "      <td>5.0</td>\n",
       "      <td>1157241600</td>\n",
       "      <td>Lower leg comfort for 12 hours +</td>\n",
       "      <td>['excellent', 'stockings', 'long', 'shifts', '...</td>\n",
       "      <td>2006</td>\n",
       "      <td>1</td>\n",
       "      <td>[excellent, stockings, long, shifts, feet, tig...</td>\n",
       "      <td>[jobst, ultrasheer, 15, 20, knee, high, silky,...</td>\n",
       "    </tr>\n",
       "    <tr>\n",
       "      <th>1</th>\n",
       "      <td>B000278ADA</td>\n",
       "      <td>Jobst Ultrasheer 15-20 Knee-High Silky Beige ...</td>\n",
       "      <td>46.34</td>\n",
       "      <td>A21F8C1MDLQDTH</td>\n",
       "      <td>S. Lawson</td>\n",
       "      <td>14/15</td>\n",
       "      <td>5.0</td>\n",
       "      <td>1110326400</td>\n",
       "      <td>Fashionable Compression Stockings!</td>\n",
       "      <td>['dvt', 'doctor', 'required', 'wear', 'compres...</td>\n",
       "      <td>2005</td>\n",
       "      <td>2</td>\n",
       "      <td>[dvt, doctor, required, wear, compression, sto...</td>\n",
       "      <td>[jobst, ultrasheer, 15, 20, knee, high, silky,...</td>\n",
       "    </tr>\n",
       "    <tr>\n",
       "      <th>2</th>\n",
       "      <td>B000278ADA</td>\n",
       "      <td>Jobst Ultrasheer 15-20 Knee-High Silky Beige ...</td>\n",
       "      <td>46.34</td>\n",
       "      <td>A3J4K29TNC7RV1</td>\n",
       "      <td>Karen W. \"Karen W.\"</td>\n",
       "      <td>13/14</td>\n",
       "      <td>5.0</td>\n",
       "      <td>1173312000</td>\n",
       "      <td>Sheer Relief!</td>\n",
       "      <td>['doctor', 'recommended', 'thigh', 'high', 've...</td>\n",
       "      <td>2007</td>\n",
       "      <td>3</td>\n",
       "      <td>[doctor, recommended, thigh, high, version, pr...</td>\n",
       "      <td>[jobst, ultrasheer, 15, 20, knee, high, silky,...</td>\n",
       "    </tr>\n",
       "    <tr>\n",
       "      <th>3</th>\n",
       "      <td>B000278ADA</td>\n",
       "      <td>Jobst Ultrasheer 15-20 Knee-High Silky Beige ...</td>\n",
       "      <td>46.34</td>\n",
       "      <td>A3GQAVM66FA88J</td>\n",
       "      <td>G. Alosa \"wifey\"</td>\n",
       "      <td>6/6</td>\n",
       "      <td>5.0</td>\n",
       "      <td>1204416000</td>\n",
       "      <td>No more uncomfortable flights</td>\n",
       "      <td>['stockings', 'fit', 'well', 'comfortable', 'o...</td>\n",
       "      <td>2008</td>\n",
       "      <td>4</td>\n",
       "      <td>[stockings, fit, well, comfortable, opportunit...</td>\n",
       "      <td>[jobst, ultrasheer, 15, 20, knee, high, silky,...</td>\n",
       "    </tr>\n",
       "    <tr>\n",
       "      <th>4</th>\n",
       "      <td>B000278ADA</td>\n",
       "      <td>Jobst Ultrasheer 15-20 Knee-High Silky Beige ...</td>\n",
       "      <td>46.34</td>\n",
       "      <td>A1BTRWL1E3T2YB</td>\n",
       "      <td>A. S. Penuel</td>\n",
       "      <td>6/6</td>\n",
       "      <td>5.0</td>\n",
       "      <td>1184803200</td>\n",
       "      <td>Jobst UltraSheer Thigh High</td>\n",
       "      <td>['excellent', 'product', 'however', 'difficult...</td>\n",
       "      <td>2007</td>\n",
       "      <td>5</td>\n",
       "      <td>[excellent, product, however, difficult, get, ...</td>\n",
       "      <td>[jobst, ultrasheer, 15, 20, knee, high, silky,...</td>\n",
       "    </tr>\n",
       "  </tbody>\n",
       "</table>\n",
       "</div>"
      ],
      "text/plain": [
       "  product/productId                                      product/title  \\\n",
       "0        B000278ADA   Jobst Ultrasheer 15-20 Knee-High Silky Beige ...   \n",
       "1        B000278ADA   Jobst Ultrasheer 15-20 Knee-High Silky Beige ...   \n",
       "2        B000278ADA   Jobst Ultrasheer 15-20 Knee-High Silky Beige ...   \n",
       "3        B000278ADA   Jobst Ultrasheer 15-20 Knee-High Silky Beige ...   \n",
       "4        B000278ADA   Jobst Ultrasheer 15-20 Knee-High Silky Beige ...   \n",
       "\n",
       "  product/price    review/userId       review/profileName review/helpfulness  \\\n",
       "0         46.34    ASL7LZAL2LBMS   Ohio Nurse \"bronwyn59\"              13/13   \n",
       "1         46.34   A21F8C1MDLQDTH                S. Lawson              14/15   \n",
       "2         46.34   A3J4K29TNC7RV1      Karen W. \"Karen W.\"              13/14   \n",
       "3         46.34   A3GQAVM66FA88J         G. Alosa \"wifey\"                6/6   \n",
       "4         46.34   A1BTRWL1E3T2YB             A. S. Penuel                6/6   \n",
       "\n",
       "   review/score  review/time                       review/summary  \\\n",
       "0           5.0   1157241600     Lower leg comfort for 12 hours +   \n",
       "1           5.0   1110326400   Fashionable Compression Stockings!   \n",
       "2           5.0   1173312000                        Sheer Relief!   \n",
       "3           5.0   1204416000        No more uncomfortable flights   \n",
       "4           5.0   1184803200          Jobst UltraSheer Thigh High   \n",
       "\n",
       "                                         review/text  time  docid  \\\n",
       "0  ['excellent', 'stockings', 'long', 'shifts', '...  2006      1   \n",
       "1  ['dvt', 'doctor', 'required', 'wear', 'compres...  2005      2   \n",
       "2  ['doctor', 'recommended', 'thigh', 'high', 've...  2007      3   \n",
       "3  ['stockings', 'fit', 'well', 'comfortable', 'o...  2008      4   \n",
       "4  ['excellent', 'product', 'however', 'difficult...  2007      5   \n",
       "\n",
       "                                    review_text_list  \\\n",
       "0  [excellent, stockings, long, shifts, feet, tig...   \n",
       "1  [dvt, doctor, required, wear, compression, sto...   \n",
       "2  [doctor, recommended, thigh, high, version, pr...   \n",
       "3  [stockings, fit, well, comfortable, opportunit...   \n",
       "4  [excellent, product, however, difficult, get, ...   \n",
       "\n",
       "                                           titleNsum  \n",
       "0  [jobst, ultrasheer, 15, 20, knee, high, silky,...  \n",
       "1  [jobst, ultrasheer, 15, 20, knee, high, silky,...  \n",
       "2  [jobst, ultrasheer, 15, 20, knee, high, silky,...  \n",
       "3  [jobst, ultrasheer, 15, 20, knee, high, silky,...  \n",
       "4  [jobst, ultrasheer, 15, 20, knee, high, silky,...  "
      ]
     },
     "execution_count": 40,
     "metadata": {},
     "output_type": "execute_result"
    }
   ],
   "source": [
    "filtered_df.head()"
   ]
  },
  {
   "cell_type": "code",
   "execution_count": 43,
   "id": "0becc604",
   "metadata": {},
   "outputs": [],
   "source": [
    "filtered_df.to_csv('output_tokenized.csv', index=False)"
   ]
  }
 ],
 "metadata": {
  "kernelspec": {
   "display_name": "Python 3",
   "language": "python",
   "name": "python3"
  },
  "language_info": {
   "codemirror_mode": {
    "name": "ipython",
    "version": 3
   },
   "file_extension": ".py",
   "mimetype": "text/x-python",
   "name": "python",
   "nbconvert_exporter": "python",
   "pygments_lexer": "ipython3",
   "version": "3.10.9"
  }
 },
 "nbformat": 4,
 "nbformat_minor": 5
}
